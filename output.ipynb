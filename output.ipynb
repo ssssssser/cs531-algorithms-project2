{
 "cells": [
  {
   "cell_type": "code",
   "execution_count": 1,
   "metadata": {},
   "outputs": [],
   "source": [
    "import pickle\n",
    "import numpy as np\n",
    "import matplotlib.pyplot as plt\n",
    "%matplotlib inline\n",
    "from part_3_1 import *\n",
    "from part_4_1 import *\n",
    "from part_5_4 import *\n",
    "\n",
    "def load(name):\n",
    "    with open(f'{name}.pkl', 'rb') as f:\n",
    "        return pickle.load(f)\n",
    "ds0=load('ds0')\n",
    "ds1=load('ds1')\n",
    "ds2=load('ds2')\n",
    "ds3=load('ds3')"
   ]
  },
  {
   "cell_type": "code",
   "execution_count": 2,
   "metadata": {},
   "outputs": [],
   "source": [
    "# Part 3.1\n",
    "revenue0, select0 = offline_greedy(ds0)\n",
    "revenue1, select1 = offline_greedy(ds1)\n",
    "revenue2, select2 = offline_greedy(ds2)\n",
    "revenue3, select3 = offline_greedy(ds3)"
   ]
  },
  {
   "cell_type": "code",
   "execution_count": 3,
   "metadata": {},
   "outputs": [
    {
     "data": {
      "text/plain": [
       "(100.0,\n",
       " array([ 0, -1,  0, -1,  0, -1,  0, -1,  0, -1,  0, -1,  0, -1,  0, -1,  0,\n",
       "        -1,  0, -1,  0, -1,  0, -1,  0, -1,  0, -1,  0, -1,  0, -1,  0, -1,\n",
       "         0, -1,  0, -1,  0, -1,  0, -1,  0, -1,  0, -1,  0, -1,  0, -1,  0,\n",
       "        -1,  0, -1,  0, -1,  0, -1,  0, -1,  0, -1,  0, -1,  0, -1,  0, -1,\n",
       "         0, -1,  0, -1,  0, -1,  0, -1,  0, -1,  0, -1,  0, -1,  0, -1,  0,\n",
       "        -1,  0, -1,  0, -1,  0, -1,  0, -1,  0, -1,  0, -1,  0, -1,  0, -1,\n",
       "         0, -1,  0, -1,  0, -1,  0, -1,  0, -1,  0, -1,  0, -1,  0, -1,  0,\n",
       "        -1,  0, -1,  0, -1,  0, -1,  0, -1,  0, -1,  0, -1,  0, -1,  0, -1,\n",
       "         0, -1,  0, -1,  0, -1,  0, -1,  0, -1,  0, -1,  0, -1,  0, -1,  0,\n",
       "        -1,  0, -1,  0, -1,  0, -1,  0, -1,  0, -1,  0, -1,  0, -1,  0, -1,\n",
       "         0, -1,  0, -1,  0, -1,  0, -1,  0, -1,  0, -1,  0, -1,  0, -1,  0,\n",
       "        -1,  0, -1,  0, -1,  0, -1,  0, -1,  0, -1,  0, -1]),\n",
       " 302.25000000000006,\n",
       " array([ 3, 11, 17,  0,  9, 18, 11,  7,  2,  8, 13, 19, 16,  9,  3, 12, 18,\n",
       "         2, 11,  5,  1,  3, 14,  0, 18, 18,  8, 12, 13, 14, 14, 10,  0, 10,\n",
       "        10, 13,  2, 19,  7,  0,  4, 14,  2,  0,  0,  0, 15,  1, 16,  8,  9,\n",
       "         9,  9,  7,  3, 12,  3,  8, 14, 15, 16,  6,  8, 16,  9, 11,  2,  4,\n",
       "        11,  3, 10,  6, 15,  1,  3,  1,  9,  3, 11,  3, 17, 12,  4,  9,  3,\n",
       "        11,  6,  4, 16, 15, 15,  4,  2,  6,  7,  9, 15,  8, 15,  3,  7,  7,\n",
       "         7, 13,  8, 15,  6, 13, 11,  8,  0,  7, 11,  7, 13, 10, 16,  4,  7,\n",
       "         0,  7,  8,  8, 12, 16,  7,  4,  6,  2,  6,  6, 17, 11, 11, 11, 16,\n",
       "        15, 15, 15, 11,  4, 17, 15, 12, 11,  8, 11, 13,  3, 13, 15, -1, 11,\n",
       "        16, 11, -1, 13,  4,  0, 15,  2, 15, 15, 15, 12, 16,  3, 19,  4, 13,\n",
       "        15, 19,  8,  8,  3,  4, 16,  4, -1,  3,  3,  6, 19, 19, 13, 17, 19,\n",
       "        -1,  4, 17, -1, -1,  2, 16, 16, 16, 16,  3, 12, 17, -1, 13,  6,  6,\n",
       "         2,  4,  8, -1, 16, 17, 16, -1,  0, 13, 13, 12, -1,  0,  4, 16,  8,\n",
       "        12,  6,  0, -1, -1,  2, -1,  2,  2, 19,  6, -1,  0,  8,  2, -1, -1,\n",
       "        12, 12,  4, -1, -1, 12,  6, 12, -1, -1, 17, -1, -1, -1, -1, 17,  0,\n",
       "        -1,  4, 13, -1,  0, -1, -1, 13, -1,  0, -1, 19, 12, -1, -1, -1, -1,\n",
       "        -1,  6, -1, 12, -1, -1, -1, 12, 13, -1,  6, -1, -1, -1, 19, -1, -1,\n",
       "        -1, -1, -1, -1,  2, -1, -1, -1, -1, 17, -1, -1, -1, -1, 17, -1, -1,\n",
       "        -1, -1, -1, -1, -1,  6, -1, -1, 19, -1, -1, -1, -1, 17, -1, 19, 19,\n",
       "         2, -1, -1, -1, -1, -1, -1, -1, -1, -1, -1, -1, -1, 19, -1, -1, -1,\n",
       "        19, -1, -1, -1, -1, -1, -1, -1, -1, -1, 19, 17, -1, -1, -1, -1, 17,\n",
       "        -1, -1, -1, -1, -1, -1, -1, -1, 17, -1, -1, -1, -1, -1, -1, -1, -1,\n",
       "        -1, -1, 17, -1, -1, -1, -1, -1, -1, -1, -1, -1, -1, -1, -1, -1, -1,\n",
       "        -1, -1, -1, -1, -1, -1, -1, -1, -1]),\n",
       " 254.34000000000003,\n",
       " array([14,  1, 14,  8,  8, 19,  7, 18,  6, 12, 18, 11,  6, 14,  1,  8,  1,\n",
       "        14,  8,  6, 16,  3,  7,  3, 10, 10, 11, 14, 10, 12,  6, 10,  7, 14,\n",
       "        10, 12, 16,  3, 10, 11, 15, 19, 14,  3,  6,  3, 15, 15, 14,  8, 15,\n",
       "        15, 11, 15,  6,  3, 15,  3, 15, 19,  5,  6, 18,  5,  5,  7, 18, 18,\n",
       "        19, 12, 18,  3, 11,  5, 16,  5,  7,  5,  7, 19, 13,  7, 13, 14, 16,\n",
       "        13, 11, 19, 12, 14, 18, 13,  6, 13, 13,  8,  6, 18, 13,  7,  9, 19,\n",
       "         6,  9,  8, 19, 19,  9,  9, 16, 11,  7,  9,  6,  9, 18,  9,  8,  9,\n",
       "         7, 14, 17,  7, 17, 11, 11,  7, 18, 11,  8, 17, 11,  8, 18, 16, 12,\n",
       "        16,  3, 17, 17,  4,  4, 11, 16, 19,  4,  7, 12,  7,  6,  4, 14,  3,\n",
       "         4, 19,  3, 19,  4,  4, 14,  0, 11, 12,  3, 14, 18, 16, 12,  8, 18,\n",
       "        12,  6,  3, 16,  6, 18,  0,  8, 19, 18,  8, 16,  8, 19, 14,  7,  2,\n",
       "        16,  8,  2,  2, 18, 19, 11, 14,  6,  6, 18,  2, 12, -1, -1,  3,  3,\n",
       "        -1, -1, -1, -1, -1, -1, -1, -1, -1, -1, -1, -1,  3,  3, -1, -1, -1,\n",
       "        -1, -1, -1, -1, -1, -1, 19, -1, -1, -1, -1, -1, -1, -1, -1, -1, -1,\n",
       "        -1, -1, -1, -1, -1, -1, -1, -1, -1, -1, -1, -1, -1, -1, -1, -1,  6,\n",
       "        -1, -1, -1, -1, -1, -1, -1, -1, -1, -1, -1, -1, -1, -1, -1, -1, -1,\n",
       "        -1, -1, -1, -1, -1, -1, -1, -1, -1, -1, -1, -1, -1,  7, -1, -1,  7,\n",
       "        -1, -1, -1, -1, -1, -1, -1, -1, -1, -1, -1, -1, -1, 12, -1, 12, 12,\n",
       "        12, -1, -1, -1, -1, -1, -1, 12, -1, -1, -1, -1, -1, -1, -1, -1, -1,\n",
       "        -1, -1, 16, 16, -1, -1, 16, -1, -1, -1, -1, 16, -1, -1, 16, -1, -1,\n",
       "        -1, -1, -1, -1, -1, -1, -1, -1, -1, -1, -1, -1, -1,  8,  8, -1, -1,\n",
       "        -1, -1, -1, -1, -1, -1, 11, -1, -1, -1, -1, -1, -1, -1, -1, -1, 11,\n",
       "        -1, -1, -1, -1, -1, 11, -1, -1, -1, -1, -1, -1, -1, -1, -1, -1, 14,\n",
       "        -1, -1, -1, -1, -1, -1, -1, -1, -1]),\n",
       " 2080.8199999999997,\n",
       " array([11, 15, 16, ...,  3, -1, 15]))"
      ]
     },
     "execution_count": 3,
     "metadata": {},
     "output_type": "execute_result"
    }
   ],
   "source": [
    "revenue0, np.array(select0), revenue1, np.array(select1), revenue2, np.array(select2), revenue3, np.array(select3),"
   ]
  },
  {
   "cell_type": "code",
   "execution_count": 4,
   "metadata": {},
   "outputs": [],
   "source": [
    "# Part 5.4\n",
    "thres = 0.05\n",
    "revenue0f, select0f = online_greedy_fair(ds0,thres)\n",
    "revenue1f, select1f = online_greedy_fair(ds1,thres)\n",
    "revenue2f, select2f = online_greedy_fair(ds2,thres)\n",
    "revenue3f, select3f = online_greedy_fair(ds3,thres)"
   ]
  },
  {
   "cell_type": "code",
   "execution_count": 5,
   "metadata": {},
   "outputs": [
    {
     "data": {
      "text/plain": [
       "(125.0,\n",
       " array([ 0,  0,  0,  0,  0,  0,  0,  0,  0,  0,  0,  0,  0,  0,  0,  0,  0,\n",
       "         0,  0,  0,  0,  0,  0,  0,  0,  0,  0,  0,  0,  0,  0,  0,  0,  0,\n",
       "         0,  0,  0,  0,  0,  0,  0,  0,  0,  0,  0,  0,  0,  0,  0,  0,  0,\n",
       "         0,  0,  0,  0,  0,  0,  0,  0,  0,  0,  0,  0,  0,  0,  0,  0,  0,\n",
       "         0,  0,  0,  0,  0,  0,  0,  0,  0,  0,  0,  0,  0,  0,  0,  0,  0,\n",
       "         0,  0,  0,  0,  0,  0,  0,  0,  0,  0,  0,  0,  0,  0,  0,  1, -1,\n",
       "         1, -1,  1, -1,  1, -1,  1, -1,  1, -1,  1, -1,  1, -1,  1, -1,  1,\n",
       "        -1,  1, -1,  1, -1,  1, -1,  1, -1,  1, -1,  1, -1,  1, -1,  1, -1,\n",
       "         1, -1,  1, -1,  1, -1,  1, -1,  1, -1,  1, -1,  1, -1,  1, -1,  1,\n",
       "        -1,  1, -1,  1, -1,  1, -1,  1, -1,  1, -1,  1, -1,  1, -1,  1, -1,\n",
       "         1, -1,  1, -1,  1, -1,  1, -1,  1, -1,  1, -1,  1, -1,  1, -1,  1,\n",
       "        -1,  1, -1,  1, -1,  1, -1,  1, -1,  1, -1,  1, -1]),\n",
       " 261.20000000000005,\n",
       " array([ 3, 11, 17,  0, 17, 18,  2,  7,  2, 12, 10, 19,  5,  6, 19, 12, 11,\n",
       "         2, 18,  3,  1,  3, 11, 10, 18, 18,  8, 12, 16,  0, 14,  9, 19, 14,\n",
       "        14, 19,  2, 19,  7,  0, 13,  0,  2,  0,  0,  0, 19,  1,  8,  8,  9,\n",
       "         1,  9,  7, 13, 14, 13,  6,  8, 19, 17, 11,  8, 16,  9, 11,  2,  4,\n",
       "        11,  3,  2,  6, 15, 17,  3,  6, 19, 15, 11,  8, 17, 12,  2, 11,  3,\n",
       "        13,  9, 10, 13, 15, 15,  4,  2,  6, 15, 12,  8,  8, 12,  2, 10,  7,\n",
       "        17, 13,  8,  2,  6,  6, 11, 15,  0, 12, 11,  7, 13,  2, 16,  4, 19,\n",
       "         6,  2,  8,  8, 12, 16,  6,  0,  6,  2,  6,  6, 17, 11, 11,  8,  2,\n",
       "        15, 15,  6, 11,  4, 17, 15,  6, 13,  8,  6, 13,  3, 13, 13, 12,  6,\n",
       "        16, 15, 13, 13,  4,  0,  0,  2, 15,  6,  8,  3,  0,  2, 15, 15, 13,\n",
       "        12, 19,  8,  8,  8, 17,  4, 17, 13,  3,  3,  0, 19, 19, 13, 17, 13,\n",
       "         4,  4, 17, 17, 12, 19, 16,  4, 19, 17,  3, 12, 17, 19, 12, 17, 16,\n",
       "        16,  4, 12, 19, 17,  0, 16, 12,  0,  0,  4, 12, 19,  0,  4, 16,  4,\n",
       "        12,  4,  4,  4,  4,  4, -1, -1, -1, -1, -1, -1, -1, -1, -1, -1, -1,\n",
       "        -1, -1, -1, -1, -1, -1, -1, -1, -1, -1, -1, -1, -1, -1, -1, -1, -1,\n",
       "        -1, -1, -1, -1, -1, -1, -1, -1, -1, -1, -1, -1, -1, -1, -1, -1, -1,\n",
       "        -1, -1, -1, -1, -1, -1, -1, -1, -1, -1, -1, -1, -1, -1, -1, -1, -1,\n",
       "        -1, -1, -1, -1, -1, -1, -1, -1, -1, -1, -1, -1, -1, -1, -1, -1, -1,\n",
       "        -1, -1, -1, -1, -1, -1, -1, -1, -1, -1, -1, -1, -1, -1, -1, -1, -1,\n",
       "        -1, -1, -1, -1, -1, -1, -1, -1, -1, -1, -1, -1, -1, -1, -1, -1, -1,\n",
       "        -1, -1, -1, -1, -1, -1, -1, -1, -1, -1, -1, -1, -1, -1, -1, -1, -1,\n",
       "        -1, -1, -1, -1, -1, -1, -1, -1, -1, -1, -1, -1, -1, -1, -1, -1, -1,\n",
       "        -1, -1, -1, -1, -1, -1, -1, -1, -1, -1, -1, -1, -1, -1, -1, -1, -1,\n",
       "        -1, -1, -1, -1, -1, -1, -1, -1, -1]),\n",
       " 226.45000000000002,\n",
       " array([14,  7, 14,  7,  8, 19,  7, 18, 16, 12, 18, 18,  6, 12, 18,  8,  6,\n",
       "        14, 11, 18, 12,  3,  7,  3,  3, 11,  7, 19, 19, 12, 18, 10, 12, 14,\n",
       "        19, 12, 16,  3, 12, 11, 11, 15, 14,  3,  6,  3, 15, 16,  3,  8, 19,\n",
       "         3, 11, 12,  6,  3, 12,  3, 15, 19,  5,  6, 18,  8,  8,  7, 18, 18,\n",
       "         3, 12,  6,  3, 11,  5, 16,  8,  7,  3,  7, 19, 14,  7,  6, 14, 16,\n",
       "        13, 11,  8, 13, 14, 16, 12,  6, 16, 14,  7,  7,  6, 16,  7, 11, 18,\n",
       "        19, 11,  8, 19,  3, 14, 16, 16, 11,  7, 11,  6,  9, 14, 16,  8, 18,\n",
       "        19, 14,  3, 19, 12, 17, 11,  7, 18,  8,  8, 11, 18,  8, 18, 16,  8,\n",
       "        18,  3,  6, 14,  3, 16,  6, 16, 19, 16,  7,  7,  7,  6,  4,  8, 16,\n",
       "         6, 19,  6, 19,  4, 16, 14,  0, 11, 12, 12, 14, 18, 14, 12,  8, 18,\n",
       "        12,  6,  0, 14,  6, 19, 11,  8, 19,  8, 11, 11, 19,  2, 16, 12,  2,\n",
       "         2, 11,  2,  2,  2,  2,  2,  2,  2,  2,  2,  2,  2, -1, -1, -1, -1,\n",
       "        -1, -1, -1, -1, -1, -1, -1, -1, -1, -1, -1, -1, -1, -1, -1, -1, -1,\n",
       "        -1, -1, -1, -1, -1, -1, -1, -1, -1, -1, -1, -1, -1, -1, -1, -1, -1,\n",
       "        -1, -1, -1, -1, -1, -1, -1, -1, -1, -1, -1, -1,  6, -1, -1, -1, -1,\n",
       "        -1, -1, -1, -1, -1, -1, -1, -1, -1, -1, -1, -1, -1, -1, -1, -1, -1,\n",
       "        -1, -1, -1, -1, -1, -1, -1, -1, -1, -1, -1, -1, -1, -1, -1, -1, -1,\n",
       "        -1, -1, -1, -1, -1, -1, -1, -1, -1, -1, -1, -1, -1, -1, -1, -1, -1,\n",
       "        -1, -1, -1, -1, -1, -1, -1, -1, -1, -1, -1, -1, -1, -1, -1, -1, -1,\n",
       "        -1, -1, -1, -1, -1, -1, -1, -1, -1, -1, -1, -1, -1, -1, -1, -1, -1,\n",
       "        -1, -1, -1, -1, -1, -1, -1, -1, -1, -1, -1, -1, -1, -1, -1, -1, -1,\n",
       "        -1, -1, -1, -1, -1, -1, -1, -1, -1, -1, -1, -1, -1, -1, -1, -1, -1,\n",
       "        -1, -1, -1, -1, -1, -1, -1, -1, -1, -1, -1, -1, -1, -1, -1, -1, -1,\n",
       "        -1, -1, -1, -1, -1, -1, -1, -1, -1]),\n",
       " 2081.790000000001,\n",
       " array([11, 15,  2, ...,  3, 17, 17]))"
      ]
     },
     "execution_count": 5,
     "metadata": {},
     "output_type": "execute_result"
    }
   ],
   "source": [
    "revenue0f, select0f, revenue1f, select1f, revenue2f, select2f, revenue3f, select3f"
   ]
  },
  {
   "cell_type": "code",
   "execution_count": 2,
   "metadata": {},
   "outputs": [],
   "source": [
    "# Part 4.1\n",
    "select0o, revenue0o = online_greedy(ds0)\n",
    "select1o, revenue1o = online_greedy(ds1)\n",
    "select2o, revenue2o = online_greedy(ds2)\n",
    "select3o, revenue3o = online_greedy(ds3)"
   ]
  },
  {
   "cell_type": "code",
   "execution_count": 3,
   "metadata": {},
   "outputs": [
    {
     "data": {
      "text/plain": [
       "(125.0,\n",
       " array([ 0,  0,  0,  0,  0,  0,  0,  0,  0,  0,  0,  0,  0,  0,  0,  0,  0,\n",
       "         0,  0,  0,  0,  0,  0,  0,  0,  0,  0,  0,  0,  0,  0,  0,  0,  0,\n",
       "         0,  0,  0,  0,  0,  0,  0,  0,  0,  0,  0,  0,  0,  0,  0,  0,  0,\n",
       "         0,  0,  0,  0,  0,  0,  0,  0,  0,  0,  0,  0,  0,  0,  0,  0,  0,\n",
       "         0,  0,  0,  0,  0,  0,  0,  0,  0,  0,  0,  0,  0,  0,  0,  0,  0,\n",
       "         0,  0,  0,  0,  0,  0,  0,  0,  0,  0,  0,  0,  0,  0,  0,  1, -1,\n",
       "         1, -1,  1, -1,  1, -1,  1, -1,  1, -1,  1, -1,  1, -1,  1, -1,  1,\n",
       "        -1,  1, -1,  1, -1,  1, -1,  1, -1,  1, -1,  1, -1,  1, -1,  1, -1,\n",
       "         1, -1,  1, -1,  1, -1,  1, -1,  1, -1,  1, -1,  1, -1,  1, -1,  1,\n",
       "        -1,  1, -1,  1, -1,  1, -1,  1, -1,  1, -1,  1, -1,  1, -1,  1, -1,\n",
       "         1, -1,  1, -1,  1, -1,  1, -1,  1, -1,  1, -1,  1, -1,  1, -1,  1,\n",
       "        -1,  1, -1,  1, -1,  1, -1,  1, -1,  1, -1,  1, -1]),\n",
       " 260.18,\n",
       " array([ 3, 11, 17,  0,  9, 18, 11,  7,  2,  8, 13, 19, 16,  9,  3, 12, 18,\n",
       "         2, 11,  5,  1,  3, 14,  0, 18, 18,  8, 12, 13,  0, 17, 10,  0, 10,\n",
       "        10, 13,  2, 19,  7,  0,  4,  0,  2,  0,  0,  0, 19,  1,  8,  8,  9,\n",
       "         9,  9,  7,  3, 12,  8,  8,  8, 19,  6,  6,  8, 16,  9, 11,  2,  4,\n",
       "        11,  3, 19,  6, 15,  0,  8,  1,  0,  3, 11,  8, 17, 12,  4,  9,  3,\n",
       "        11,  6,  4, 16, 15, 15,  4,  2,  6,  7,  9,  8,  8, 15,  2,  7,  7,\n",
       "        17, 13,  8,  6,  6, 13, 11,  8,  0, 12,  0,  7, 13,  2, 19,  4,  7,\n",
       "         0,  7,  8,  8, 12, 16,  6,  0,  6,  2,  6,  6, 17, 11, 11,  0,  2,\n",
       "        17, 15,  4, 11,  4, 17, 15, 12, 11, 16,  0,  2,  3, 13, 13,  2,  6,\n",
       "        16, 11,  2, 13,  4, 15,  2,  2,  2,  6,  8, 12, 16, 17, 19,  4, 13,\n",
       "        12, 19, 12, 19,  6,  4,  6, 19,  6,  3,  3,  6, 19, 19, 13, 17, 19,\n",
       "        17,  4, 17,  2, 12,  4, 16, 12, 19, 17,  3, 12, 17, 13, 13, 17, 16,\n",
       "        13,  4, 12,  4, 17, 17, 16, 17, 19, 13, 13, 12, 19, 16,  4, 13,  4,\n",
       "        12, 19, 12, -1, -1, -1, -1, -1, -1, -1, -1, -1, -1, -1, -1, -1, -1,\n",
       "        -1, -1, -1, -1, -1, -1, -1, -1, -1, -1, -1, -1, -1, -1, -1, -1, -1,\n",
       "        -1, -1, -1, -1, -1, -1, -1, -1, -1, -1, -1, -1, -1, -1, -1, -1, -1,\n",
       "        -1, -1, -1, -1, -1, -1, -1, -1, -1, -1, -1, -1, -1, -1, -1, -1, -1,\n",
       "        -1, -1, -1, -1, -1, -1, -1, -1, -1, -1, -1, -1, -1, -1, -1, -1, -1,\n",
       "        -1, -1, -1, -1, -1, -1, -1, -1, -1, -1, -1, -1, -1, -1, -1, -1, -1,\n",
       "        -1, -1, -1, -1, -1, -1, -1, -1, -1, -1, -1, -1, -1, -1, -1, -1, -1,\n",
       "        -1, -1, -1, -1, -1, -1, -1, -1, -1, -1, -1, -1, -1, -1, -1, -1, -1,\n",
       "        -1, -1, -1, -1, -1, -1, -1, -1, -1, -1, -1, -1, -1, -1, -1, -1, -1,\n",
       "        -1, -1, -1, -1, -1, -1, -1, -1, -1, -1, -1, -1, -1, -1, -1, -1, -1,\n",
       "        -1, -1, -1, -1, -1, -1, -1, -1, -1]),\n",
       " 228.56,\n",
       " array([14,  7, 14,  8,  8, 19,  7, 18,  6, 12, 18, 11,  6, 12,  1,  8,  6,\n",
       "        14,  8,  6,  3,  3,  7,  3,  3, 10, 11, 14, 19, 12,  6, 10,  7, 14,\n",
       "         8, 12, 16,  3,  3, 11, 12, 19, 14,  3,  6,  3, 15, 16,  3,  8, 19,\n",
       "        15, 11, 15,  6,  3, 19,  3, 15, 19,  5,  6, 18, 14, 14,  7, 18, 18,\n",
       "        19, 12, 18,  3, 11,  5, 16,  6,  7, 19,  7, 19,  8,  7, 13, 14, 16,\n",
       "        11, 11, 19, 12, 14, 18, 14,  6,  8, 13,  8,  6, 18, 13,  7, 12, 19,\n",
       "         6, 12,  8, 19, 19, 19,  6, 16, 11,  7, 12,  6, 19, 18, 11,  8, 14,\n",
       "        19, 14,  8,  7,  8, 11, 11,  7, 18, 11,  8, 12, 11,  8, 18, 16, 12,\n",
       "        16,  3, 17, 12,  3, 16, 11, 16, 19, 16,  7, 12,  7,  6,  4, 14,  3,\n",
       "         6,  8,  3, 16,  4, 16, 14,  0, 11, 12,  3, 14, 18, 16, 12,  8, 18,\n",
       "        12,  6,  0, 14, 18, 18, 11, 18, 18,  7, 11, 16,  7,  7, 16,  2,  2,\n",
       "        16,  2,  2,  2, 16,  2,  2,  2,  2,  2,  2,  2,  2, -1, -1, -1, -1,\n",
       "        -1, -1, -1, -1, -1, -1, -1, -1, -1, -1, -1, -1, -1, -1, -1, -1, -1,\n",
       "        -1, -1, -1, -1, -1, -1, -1, -1, -1, -1, -1, -1, -1, -1, -1, -1, -1,\n",
       "        -1, -1, -1, -1, -1, -1, -1, -1, -1, -1, -1, -1,  6, -1, -1, -1, -1,\n",
       "        -1, -1, -1, -1, -1, -1, -1, -1, -1, -1, -1, -1, -1, -1, -1, -1, -1,\n",
       "        -1, -1, -1, -1, -1, -1, -1, -1, -1, -1, -1, -1, -1, -1, -1, -1, -1,\n",
       "        -1, -1, -1, -1, -1, -1, -1, -1, -1, -1, -1, -1, -1, -1, -1, -1, -1,\n",
       "        -1, -1, -1, -1, -1, -1, -1, -1, -1, -1, -1, -1, -1, -1, -1, -1, -1,\n",
       "        -1, -1, -1, -1, -1, -1, -1, -1, -1, -1, -1, -1, -1, -1, -1, -1, -1,\n",
       "        -1, -1, -1, -1, -1, -1, -1, -1, -1, -1, -1, -1, -1, -1, -1, -1, -1,\n",
       "        -1, -1, -1, -1, -1, -1, -1, -1, -1, -1, -1, -1, -1, -1, -1, -1, -1,\n",
       "        -1, -1, -1, -1, -1, -1, -1, -1, -1, -1, -1, -1, -1, -1, -1, -1, -1,\n",
       "        -1, -1, -1, -1, -1, -1, -1, -1, -1]),\n",
       " 2092.4400000000005,\n",
       " array([11, 15, 16, ...,  3, -1, -1]))"
      ]
     },
     "execution_count": 3,
     "metadata": {},
     "output_type": "execute_result"
    }
   ],
   "source": [
    "revenue0o, np.array(select0o), revenue1o, np.array(select1o), revenue2o, np.array(select2o), revenue3o, np.array(select3o)"
   ]
  },
  {
   "cell_type": "code",
   "execution_count": 37,
   "metadata": {},
   "outputs": [],
   "source": [
    "# Comparison\n",
    "# ds0\n",
    "revenue0f, select0f = online_greedy_fair(ds0,0.51)\n",
    "revenue0f, select0f"
   ]
  },
  {
   "cell_type": "code",
   "execution_count": 205,
   "metadata": {},
   "outputs": [
    {
     "data": {
      "image/png": "[encoded data removed]",
      "text/plain": [
       "<Figure size 432x288 with 1 Axes>"
      ]
     },
     "metadata": {
      "needs_background": "light"
     },
     "output_type": "display_data"
    }
   ],
   "source": [
    "plt.hist([select0o, select0f],label=['baseline', 'modified'])\n",
    "plt.legend(loc='upper right')\n",
    "plt.show()"
   ]
  },
  {
   "cell_type": "code",
   "execution_count": 231,
   "metadata": {},
   "outputs": [
    {
     "data": {
      "text/plain": [
       "267.54999999999995"
      ]
     },
     "execution_count": 231,
     "metadata": {},
     "output_type": "execute_result"
    }
   ],
   "source": [
    "# ds1\n",
    "revenue1f, select1f = online_greedy_fair(ds1,0.5)\n",
    "revenue1f"
   ]
  },
  {
   "cell_type": "code",
   "execution_count": 232,
   "metadata": {},
   "outputs": [
    {
     "data": {
      "image/png": "[encoded data removed]",
      "text/plain": [
       "<Figure size 432x288 with 1 Axes>"
      ]
     },
     "metadata": {
      "needs_background": "light"
     },
     "output_type": "display_data"
    }
   ],
   "source": [
    "plt.hist([select1o, select1f], bins=[-1,0,1,2,3,4,5,6,7,8,9,10,11,12,13,14,15,16,17,18,19,20], label=['baseline', 'modified'])\n",
    "plt.legend(loc='upper right')\n",
    "plt.show()"
   ]
  },
  {
   "cell_type": "code",
   "execution_count": 254,
   "metadata": {},
   "outputs": [
    {
     "data": {
      "text/plain": [
       "221.04000000000002"
      ]
     },
     "execution_count": 254,
     "metadata": {},
     "output_type": "execute_result"
    }
   ],
   "source": [
    "# ds2\n",
    "revenue2f, select2f = online_greedy_fair(ds2,0.5)\n",
    "revenue2f"
   ]
  },
  {
   "cell_type": "code",
   "execution_count": 255,
   "metadata": {},
   "outputs": [
    {
     "data": {
      "image/png": "[encoded data removed]",
      "text/plain": [
       "<Figure size 432x288 with 1 Axes>"
      ]
     },
     "metadata": {
      "needs_background": "light"
     },
     "output_type": "display_data"
    }
   ],
   "source": [
    "plt.hist([select2o, select2f], bins=[-1,0,1,2,3,4,5,6,7,8,9,10,11,12,13,14,15,16,17,18,19,20], label=['baseline', 'modified'])\n",
    "plt.legend(loc='upper right')\n",
    "plt.show()"
   ]
  },
  {
   "cell_type": "code",
   "execution_count": 64,
   "metadata": {},
   "outputs": [
    {
     "data": {
      "text/plain": [
       "(1851.3899999999999, 2045.3)"
      ]
     },
     "execution_count": 64,
     "metadata": {},
     "output_type": "execute_result"
    }
   ],
   "source": [
    "# ds3\n",
    "revenue3f, select3f = online_greedy_fair(ds3,0.5)\n",
    "revenue3f2, select3f2 = online_greedy_fair(ds3,0.1)\n",
    "revenue3f, revenue3f2"
   ]
  },
  {
   "cell_type": "code",
   "execution_count": 66,
   "metadata": {},
   "outputs": [
    {
     "data": {
      "image/png": "[encoded data removed]",
      "text/plain": [
       "<Figure size 432x288 with 1 Axes>"
      ]
     },
     "metadata": {
      "needs_background": "light"
     },
     "output_type": "display_data"
    }
   ],
   "source": [
    "plt.hist([select3o, select3f], bins=[-1,0,1,2,3,4,5,6,7,8,9,10,11,12,13,14,15,16,17,18,19,20], label=['baseline', 'modified'])\n",
    "plt.legend(loc='upper right')\n",
    "plt.show()"
   ]
  },
  {
   "cell_type": "code",
   "execution_count": 67,
   "metadata": {},
   "outputs": [
    {
     "data": {
      "image/png": "[encoded data removed]",
      "text/plain": [
       "<Figure size 432x288 with 1 Axes>"
      ]
     },
     "metadata": {
      "needs_background": "light"
     },
     "output_type": "display_data"
    }
   ],
   "source": [
    "plt.hist([select3o, select3f2], bins=[-1,0,1,2,3,4,5,6,7,8,9,10,11,12,13,14,15,16,17,18,19,20], label=['baseline', 'modified'])\n",
    "plt.legend(loc='upper right')\n",
    "plt.show()"
   ]
  },
  {
   "cell_type": "code",
   "execution_count": null,
   "metadata": {},
   "outputs": [],
   "source": []
  }
 ],
 "metadata": {
  "kernelspec": {
   "display_name": "Python 3",
   "language": "python",
   "name": "python3"
  },
  "language_info": {
   "codemirror_mode": {
    "name": "ipython",
    "version": 3
   },
   "file_extension": ".py",
   "mimetype": "text/x-python",
   "name": "python",
   "nbconvert_exporter": "python",
   "pygments_lexer": "ipython3",
   "version": "3.7.6"
  }
 },
 "nbformat": 4,
 "nbformat_minor": 4
}
